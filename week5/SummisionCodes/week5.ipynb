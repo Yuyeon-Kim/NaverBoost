{
 "cells": [
  {
   "cell_type": "markdown",
   "metadata": {},
   "source": [
    "week 5 미션 제출\n",
    "============="
   ]
  },
  {
   "cell_type": "markdown",
   "metadata": {},
   "source": [
    "#### Imports"
   ]
  },
  {
   "cell_type": "code",
   "execution_count": 1,
   "metadata": {},
   "outputs": [],
   "source": [
    "import torch\n",
    "import torch.nn as nn\n",
    "import torchvision.datasets as dset\n",
    "import torchvision.transforms as transforms\n",
    "from torch.utils.data import DataLoader\n",
    "\n",
    "import matplotlib.pyplot as plt\n",
    "\n",
    "from tqdm import tqdm, trange"
   ]
  },
  {
   "cell_type": "markdown",
   "metadata": {},
   "source": [
    "#### Q1. 가장 먼저 학습 데이터를 준비해보도록 하겠습니다. MNIST 데이터셋을 직접 Load해 봅시다. 데이터셋을 로드하고 DataLoader를 구현해보세요.\n",
    "\n",
    "- DataLoader를 이용해 MNIST 데이터셋을 로드해봅시다."
   ]
  },
  {
   "cell_type": "markdown",
   "metadata": {},
   "source": [
    "#### Hyperparameters\n",
    "- 하이퍼 파라미터 변수를 미리 모두 지정하였습니다."
   ]
  },
  {
   "cell_type": "code",
   "execution_count": 2,
   "metadata": {},
   "outputs": [],
   "source": [
    "# Hyperparameter\n",
    "H, W = 28, 28\n",
    "channel = 3\n",
    "input_size = H * W\n",
    "num_classes = 10\n",
    "learning_rate = 0.01\n",
    "training_epochs = 15\n",
    "batch_size = 100\n",
    "\n",
    "root = '../data'"
   ]
  },
  {
   "cell_type": "markdown",
   "metadata": {},
   "source": [
    "#### Load Data\n",
    "- 오류를 막기 위해 transform을 transforms.ToTensor()로 합니다. (transforms.ToTensor(): Convert a PIL(파이썬 이미지 분석 라이브러리) Image or numpy.ndarray to tensor)"
   ]
  },
  {
   "cell_type": "code",
   "execution_count": 3,
   "metadata": {},
   "outputs": [],
   "source": [
    "# load data\n",
    "mnist_train = dset.MNIST(root=root, train=True, transform=transforms.ToTensor(), download=True)\n",
    "mnist_test = dset.MNIST(root=root, train=False, transform=transforms.ToTensor(), download=True)\n",
    "\n",
    "train_loader = DataLoader(mnist_train, batch_size=batch_size, shuffle=True, drop_last=True)\n",
    "test_loader = DataLoader(mnist_test, batch_size=batch_size, shuffle=False, drop_last=True)"
   ]
  },
  {
   "cell_type": "markdown",
   "metadata": {},
   "source": [
    "#### Q2.데이터가 준비가 되었다면, 이제 그 데이터를 학습할 모델을 구현할 차례입니다. 그 후 모델 안의 가중치를 초기화시켜보세요. 입력 데이터 형태에 맞도록 linear한 모델을 구성해보세요.\n",
    "\n",
    "- MNIST 입력의 크기는 28x28입니다.\n",
    "\n",
    "- 여기서 구현하는 linear 모델은 입력이 1차원이기 때문에 입력 차원을 맞춰보세요."
   ]
  },
  {
   "cell_type": "markdown",
   "metadata": {},
   "source": [
    "#### Check Hardware"
   ]
  },
  {
   "cell_type": "code",
   "execution_count": 4,
   "metadata": {},
   "outputs": [],
   "source": [
    "# check cuda\n",
    "device = torch.device('cuda' if torch.cuda.is_available() else 'cpu')"
   ]
  },
  {
   "cell_type": "markdown",
   "metadata": {},
   "source": [
    "#### Build and Initialize Model\n",
    "- 위에서 정의한 하이퍼 파라미터를 사용해 모델을 정의합니다."
   ]
  },
  {
   "cell_type": "code",
   "execution_count": 5,
   "metadata": {},
   "outputs": [
    {
     "data": {
      "text/plain": [
       "Parameter containing:\n",
       "tensor([[-0.9677,  1.2898, -0.9615,  ..., -0.3593, -0.3547, -0.5720],\n",
       "        [-0.1617, -3.3071, -0.8522,  ...,  0.3628,  0.1732, -0.3498],\n",
       "        [ 0.2137, -0.9162,  0.4244,  ..., -0.2471,  0.2551,  0.2761],\n",
       "        ...,\n",
       "        [-0.4174,  0.3978,  0.4097,  ...,  0.2798, -0.5339, -1.7736],\n",
       "        [-2.0612, -0.7701,  0.1692,  ..., -0.8688, -0.5101,  0.6824],\n",
       "        [ 0.5130, -0.4874, -1.5693,  ...,  0.0807,  0.1471,  1.7773]],\n",
       "       device='cuda:0', requires_grad=True)"
      ]
     },
     "execution_count": 5,
     "metadata": {},
     "output_type": "execute_result"
    }
   ],
   "source": [
    "# build linear model\n",
    "linear = nn.Linear(in_features=input_size, out_features=num_classes, bias=True).to(device)\n",
    "\n",
    "# weight init\n",
    "torch.nn.init.normal_(linear.weight)"
   ]
  },
  {
   "cell_type": "markdown",
   "metadata": {},
   "source": [
    "#### Q3. 위에서 구현한 모델을 학습시키기 위해서는 loss 함수와 opitmizer가 필요합니다. 아래 제시된 loss 함수와 optimizer를 구현해보세요. Loss 함수와 optimizer는 모델 안의 가중치를 업데이트 할 때 사용됩니다.\n",
    "\n",
    "- 옵티마이저는 SGD, Loss는 Cross Entropy Loss를 사용합니다."
   ]
  },
  {
   "cell_type": "markdown",
   "metadata": {},
   "source": [
    "#### Loss and optimizer"
   ]
  },
  {
   "cell_type": "code",
   "execution_count": 6,
   "metadata": {},
   "outputs": [],
   "source": [
    "# Loss fn - Cross Entropy Loss\n",
    "criterion = torch.nn.CrossEntropyLoss().to(device)\n",
    "\n",
    "# optimizer - SGD\n",
    "optimizer = torch.optim.SGD(linear.parameters(), lr = learning_rate)"
   ]
  },
  {
   "cell_type": "markdown",
   "metadata": {},
   "source": [
    "#### Q4. 3번 문제까지 해결하셨다면, 이제 학습을 위한 준비는 거의 끝났다고 볼 수 있습니다. 위 구현 함수들을 이용해 학습 Loop를 구현해보세요.\n",
    "\n",
    "- 위에서 구현한 모델, optimzer, loss fn 등을 이용해 학습을 구현해주세요."
   ]
  },
  {
   "cell_type": "markdown",
   "metadata": {},
   "source": [
    "#### Train\n",
    "- 학습 loop 코드입니다.\n",
    "- print문 대신 tqdm을 사용하여 움직이는 출력으로 변경하였습니다. 출력의 길이를 감소하고, 가독성을 높였습니다."
   ]
  },
  {
   "cell_type": "code",
   "execution_count": 7,
   "metadata": {},
   "outputs": [
    {
     "name": "stderr",
     "output_type": "stream",
     "text": [
      "Epoch 15: 100%|██████████| 15/15 [01:44<00:00,  6.98s/it, step=600, Loss=0.75, Accuracy=0.85] \n"
     ]
    }
   ],
   "source": [
    "loss_list = [] # 학습되는 동안 loss의 변화를 기록할 리스트\n",
    "accuracy_list = [] # 학습되는 동안 accuracy의 변화를 기록할 리스트\n",
    "\n",
    "t = trange(training_epochs, desc='Epoch ', leave=True) # tqdm 객체 생성\n",
    "\n",
    "for epoch in t:\n",
    "    t.set_description(\"Epoch {}\".format(epoch+1), refresh=True) # tqdm의 description 수정\n",
    "\n",
    "    temp_loss_list = [] # 배치별로 계산된 loss를 저장할 임시 리스트\n",
    "    temp_accuracy_list = [] # 배치별로 계산된 accuracy를 저장할 임시 리스트\n",
    "\n",
    "    for i, (imgs, labels) in enumerate(train_loader):\n",
    "        imgs, labels = imgs.to(device), labels.to(device)\n",
    "        imgs = imgs.view(-1, 28 * 28)\n",
    "\n",
    "        outputs = linear(imgs) # imgs를 linear layer의 입력으로 넣어 classifier가 분류한 결과를 얻는다.\n",
    "        loss = criterion(outputs, labels) # classifier가 분류한 결과와 실제 label로 cross_entropy를 진행한다.\n",
    "\n",
    "        optimizer.zero_grad() # optimizer zero grad / gradient 초기화\n",
    "        loss.backward() # loss backward / gradient를 계산해서 업데이트\n",
    "        optimizer.step() # optimizer step / 개선\n",
    "\n",
    "        _, argmax = torch.max(outputs, 1) # max()를 이용해 최종 출력이 가장 높은 class 선택\n",
    "        accuracy = (labels == argmax).float().mean()\n",
    "        \n",
    "        temp_loss_list.append(loss.item()) # 배치별로 계산된 loss를 임시 리스트에 저장\n",
    "        temp_accuracy_list.append(accuracy.item()) # 배치별로 계산된 accuracy를 임시 리스트에 저장\n",
    "\n",
    "        if (i+1) % 100 == 0:\n",
    "            t.set_postfix({'step': i+1, 'Loss': loss.item(), 'Accuracy': accuracy.item()}) # tqdm 객체의 postfix 수정\n",
    "\n",
    "    loss_list.append(sum(temp_loss_list)/len(temp_loss_list)) # 한 epoch 동안 loss를 기록\n",
    "    accuracy_list.append(sum(temp_accuracy_list)/len(temp_accuracy_list)) # 한 epoch 동안 accuracy를 기록"
   ]
  },
  {
   "cell_type": "markdown",
   "metadata": {},
   "source": [
    "#### Train Visualize\n",
    "- 학습되는 동안 기록된 Loss와 Accuracy를 출력합니다."
   ]
  },
  {
   "cell_type": "code",
   "execution_count": 8,
   "metadata": {},
   "outputs": [
    {
     "data": {
      "image/png": "[encoded data removed]",
      "text/plain": [
       "<Figure size 720x360 with 2 Axes>"
      ]
     },
     "metadata": {
      "needs_background": "light"
     },
     "output_type": "display_data"
    }
   ],
   "source": [
    "plt.figure(figsize=(10,5))\n",
    "\n",
    "plt.subplot(1,2,1)\n",
    "plt.title('Loss')\n",
    "plt.xlabel('Epoch')\n",
    "plt.ylabel('Loss')\n",
    "plt.plot(loss_list)\n",
    "\n",
    "plt.subplot(1,2,2)\n",
    "plt.title('Accuracy')\n",
    "plt.xlabel('Epoch')\n",
    "plt.ylabel('Accuracy')\n",
    "plt.plot(accuracy_list)\n",
    "\n",
    "plt.show()"
   ]
  },
  {
   "cell_type": "markdown",
   "metadata": {},
   "source": [
    "#### Q5. 학습이 완료되면, 모델이 잘 동작하는지 테스트가 필요합니다. 데이터로드 파트에서 준비했던 테스트 데이터를 이용해 테스트를 진행해봅시다. 아래 테스트 코드를 완성해보세요."
   ]
  },
  {
   "cell_type": "markdown",
   "metadata": {},
   "source": [
    "#### Test\n",
    "- 테스트 코드입니다."
   ]
  },
  {
   "cell_type": "code",
   "execution_count": 9,
   "metadata": {},
   "outputs": [
    {
     "name": "stdout",
     "output_type": "stream",
     "text": [
      "Test accuracy for 10000 images: 79.98%\n"
     ]
    }
   ],
   "source": [
    "linear.eval()\n",
    "with torch.no_grad():\n",
    "    correct = 0\n",
    "    total = 0\n",
    "    for i, (imgs, labels) in enumerate(test_loader):\n",
    "        imgs, labels = imgs.to(device), labels.to(device)\n",
    "        imgs = imgs.view(-1, 28 * 28)\n",
    "\n",
    "        outputs = linear(imgs)\n",
    "        _, argmax = torch.max(outputs, 1) # max()를 통해 최종 출력이 가장 높은 class 선택\n",
    "        total += imgs.size(0) # 모든 이미지의 수\n",
    "        correct += (labels == argmax).sum().item() # label이 argmax와 일치하는 수 만큼 더하기\n",
    "\n",
    "    print('Test accuracy for {} images: {:.2f}%'.format(total, correct / total * 100))"
   ]
  }
 ],
 "metadata": {
  "interpreter": {
   "hash": "653d79336d89b7ad33e2a2f4c80c1cdae17151a2236a2d1b85b40cc72bd8e1b5"
  },
  "kernelspec": {
   "display_name": "Python 3.6.8 64-bit",
   "language": "python",
   "name": "python3"
  },
  "language_info": {
   "codemirror_mode": {
    "name": "ipython",
    "version": 3
   },
   "file_extension": ".py",
   "mimetype": "text/x-python",
   "name": "python",
   "nbconvert_exporter": "python",
   "pygments_lexer": "ipython3",
   "version": "3.6.8"
  },
  "orig_nbformat": 4
 },
 "nbformat": 4,
 "nbformat_minor": 2
}
