{
 "cells": [
  {
   "cell_type": "markdown",
   "metadata": {},
   "source": [
    "김유연 week 5 미션 풀이\n",
    "============="
   ]
  },
  {
   "cell_type": "markdown",
   "metadata": {},
   "source": [
    "#### Imports"
   ]
  },
  {
   "cell_type": "code",
   "execution_count": 1,
   "metadata": {},
   "outputs": [],
   "source": [
    "import torch\n",
    "import torch.nn as nn\n",
    "import torchvision.datasets as dset\n",
    "import torchvision.transforms as transforms\n",
    "from torch.utils.data import DataLoader, Dataset\n",
    "\n",
    "import matplotlib.pyplot as plt"
   ]
  },
  {
   "cell_type": "markdown",
   "metadata": {},
   "source": [
    "#### Q1."
   ]
  },
  {
   "cell_type": "markdown",
   "metadata": {},
   "source": [
    "#### Hyperparameters"
   ]
  },
  {
   "cell_type": "code",
   "execution_count": 2,
   "metadata": {},
   "outputs": [],
   "source": [
    "# Hyperparameter\n",
    "input_size = 28 * 28\n",
    "num_classes = 10\n",
    "learning_rate = 0.01\n",
    "training_epochs = 15\n",
    "batch_size = 100\n",
    "\n",
    "root = './data'\n"
   ]
  },
  {
   "cell_type": "markdown",
   "metadata": {},
   "source": [
    "#### Load Data"
   ]
  },
  {
   "cell_type": "code",
   "execution_count": 3,
   "metadata": {},
   "outputs": [],
   "source": [
    "# load data\n",
    "mnist_train = dset.MNIST(root=root, train=True, transform=transforms.ToTensor(), download=True)\n",
    "mnist_test = dset.MNIST(root=root, train=False, transform=transforms.ToTensor(), download=True)\n",
    "\n",
    "train_loader = torch.utils.data.DataLoader(mnist_train, batch_size=batch_size, shuffle=True, drop_last=True)\n",
    "test_loader = torch.utils.data.DataLoader(mnist_test, batch_size=batch_size, shuffle=False, drop_last=True)"
   ]
  },
  {
   "cell_type": "markdown",
   "metadata": {},
   "source": [
    "#### Q2. "
   ]
  },
  {
   "cell_type": "markdown",
   "metadata": {},
   "source": [
    "#### Check Hardware"
   ]
  },
  {
   "cell_type": "code",
   "execution_count": 4,
   "metadata": {},
   "outputs": [
    {
     "data": {
      "text/plain": [
       "Parameter containing:\n",
       "tensor([[-0.3620, -0.0503,  0.6341,  ..., -0.9945,  0.5104, -0.5631],\n",
       "        [-0.4225, -0.0379, -0.5495,  ...,  0.6429,  0.4456,  0.4760],\n",
       "        [-1.7069,  0.7860,  0.7407,  ..., -0.5484, -0.1528, -0.5731],\n",
       "        ...,\n",
       "        [ 0.3420,  0.5363,  1.3591,  ...,  0.5344, -0.3243, -0.7127],\n",
       "        [ 0.7674,  0.9376, -0.3123,  ...,  1.1611, -0.6034, -0.9007],\n",
       "        [-0.3012,  0.2841,  0.1790,  ...,  1.0155,  0.2228,  0.2085]],\n",
       "       device='cuda:0', requires_grad=True)"
      ]
     },
     "execution_count": 4,
     "metadata": {},
     "output_type": "execute_result"
    }
   ],
   "source": [
    "# check cuda\n",
    "device = torch.device('cuda' if torch.cuda.is_available() else 'cpu')"
   ]
  },
  {
   "cell_type": "markdown",
   "metadata": {},
   "source": [
    "#### Build and Initialize Model"
   ]
  },
  {
   "cell_type": "code",
   "execution_count": null,
   "metadata": {},
   "outputs": [],
   "source": [
    "# build linear model\n",
    "linear = nn.Linear(in_features=input_size, out_features=num_classes, bias=True).to(device)\n",
    "\n",
    "# weight init\n",
    "torch.nn.init.normal_(linear.weight)"
   ]
  },
  {
   "cell_type": "markdown",
   "metadata": {},
   "source": [
    "#### Q3. Loss and optimizer"
   ]
  },
  {
   "cell_type": "code",
   "execution_count": 5,
   "metadata": {},
   "outputs": [],
   "source": [
    "# Loss fn - Cross Entropy Loss\n",
    "criterion = torch.nn.CrossEntropyLoss().to(device)\n",
    "\n",
    "# optimizer - SGD\n",
    "optimizer = torch.optim.SGD(linear.parameters(), lr = 0.1)"
   ]
  },
  {
   "cell_type": "markdown",
   "metadata": {},
   "source": [
    "#### Q4. Train"
   ]
  },
  {
   "cell_type": "code",
   "execution_count": 6,
   "metadata": {},
   "outputs": [
    {
     "name": "stdout",
     "output_type": "stream",
     "text": [
      "Epoch [1/15], Step [100/600], Loss: 3.9115, Accuracy: 40.00%\n",
      "Epoch [1/15], Step [200/600], Loss: 1.8503, Accuracy: 59.00%\n",
      "Epoch [1/15], Step [300/600], Loss: 1.7527, Accuracy: 67.00%\n",
      "Epoch [1/15], Step [400/600], Loss: 1.7146, Accuracy: 69.00%\n",
      "Epoch [1/15], Step [500/600], Loss: 1.1771, Accuracy: 76.00%\n",
      "Epoch [1/15], Step [600/600], Loss: 1.2811, Accuracy: 77.00%\n",
      "Epoch [2/15], Step [100/600], Loss: 0.6582, Accuracy: 86.00%\n",
      "Epoch [2/15], Step [200/600], Loss: 1.3995, Accuracy: 78.00%\n",
      "Epoch [2/15], Step [300/600], Loss: 0.8733, Accuracy: 81.00%\n",
      "Epoch [2/15], Step [400/600], Loss: 0.9580, Accuracy: 79.00%\n",
      "Epoch [2/15], Step [500/600], Loss: 1.4337, Accuracy: 73.00%\n",
      "Epoch [2/15], Step [600/600], Loss: 1.0620, Accuracy: 79.00%\n",
      "Epoch [3/15], Step [100/600], Loss: 1.0108, Accuracy: 74.00%\n",
      "Epoch [3/15], Step [200/600], Loss: 0.2869, Accuracy: 90.00%\n",
      "Epoch [3/15], Step [300/600], Loss: 0.7097, Accuracy: 87.00%\n",
      "Epoch [3/15], Step [400/600], Loss: 0.6137, Accuracy: 85.00%\n",
      "Epoch [3/15], Step [500/600], Loss: 1.0751, Accuracy: 73.00%\n",
      "Epoch [3/15], Step [600/600], Loss: 0.4897, Accuracy: 80.00%\n",
      "Epoch [4/15], Step [100/600], Loss: 0.8987, Accuracy: 80.00%\n",
      "Epoch [4/15], Step [200/600], Loss: 0.8811, Accuracy: 83.00%\n",
      "Epoch [4/15], Step [300/600], Loss: 0.9657, Accuracy: 79.00%\n",
      "Epoch [4/15], Step [400/600], Loss: 0.6429, Accuracy: 91.00%\n",
      "Epoch [4/15], Step [500/600], Loss: 0.5442, Accuracy: 83.00%\n",
      "Epoch [4/15], Step [600/600], Loss: 0.9502, Accuracy: 77.00%\n",
      "Epoch [5/15], Step [100/600], Loss: 0.8314, Accuracy: 83.00%\n",
      "Epoch [5/15], Step [200/600], Loss: 0.8070, Accuracy: 79.00%\n",
      "Epoch [5/15], Step [300/600], Loss: 1.1241, Accuracy: 85.00%\n",
      "Epoch [5/15], Step [400/600], Loss: 1.1125, Accuracy: 86.00%\n",
      "Epoch [5/15], Step [500/600], Loss: 0.5590, Accuracy: 86.00%\n",
      "Epoch [5/15], Step [600/600], Loss: 0.4594, Accuracy: 88.00%\n",
      "Epoch [6/15], Step [100/600], Loss: 0.9058, Accuracy: 80.00%\n",
      "Epoch [6/15], Step [200/600], Loss: 1.0792, Accuracy: 80.00%\n",
      "Epoch [6/15], Step [300/600], Loss: 0.9700, Accuracy: 84.00%\n",
      "Epoch [6/15], Step [400/600], Loss: 0.5074, Accuracy: 91.00%\n",
      "Epoch [6/15], Step [500/600], Loss: 0.3583, Accuracy: 94.00%\n",
      "Epoch [6/15], Step [600/600], Loss: 0.7705, Accuracy: 83.00%\n",
      "Epoch [7/15], Step [100/600], Loss: 0.9495, Accuracy: 82.00%\n",
      "Epoch [7/15], Step [200/600], Loss: 0.6407, Accuracy: 87.00%\n",
      "Epoch [7/15], Step [300/600], Loss: 0.5021, Accuracy: 87.00%\n",
      "Epoch [7/15], Step [400/600], Loss: 0.7112, Accuracy: 83.00%\n",
      "Epoch [7/15], Step [500/600], Loss: 0.7546, Accuracy: 88.00%\n",
      "Epoch [7/15], Step [600/600], Loss: 0.6476, Accuracy: 88.00%\n",
      "Epoch [8/15], Step [100/600], Loss: 0.2658, Accuracy: 89.00%\n",
      "Epoch [8/15], Step [200/600], Loss: 0.4780, Accuracy: 89.00%\n",
      "Epoch [8/15], Step [300/600], Loss: 0.5530, Accuracy: 86.00%\n",
      "Epoch [8/15], Step [400/600], Loss: 0.4886, Accuracy: 86.00%\n",
      "Epoch [8/15], Step [500/600], Loss: 0.8084, Accuracy: 82.00%\n",
      "Epoch [8/15], Step [600/600], Loss: 0.2763, Accuracy: 94.00%\n",
      "Epoch [9/15], Step [100/600], Loss: 0.5298, Accuracy: 89.00%\n",
      "Epoch [9/15], Step [200/600], Loss: 0.4958, Accuracy: 88.00%\n",
      "Epoch [9/15], Step [300/600], Loss: 0.6414, Accuracy: 90.00%\n",
      "Epoch [9/15], Step [400/600], Loss: 0.4462, Accuracy: 90.00%\n",
      "Epoch [9/15], Step [500/600], Loss: 0.6014, Accuracy: 89.00%\n",
      "Epoch [9/15], Step [600/600], Loss: 0.7235, Accuracy: 82.00%\n",
      "Epoch [10/15], Step [100/600], Loss: 0.4721, Accuracy: 92.00%\n",
      "Epoch [10/15], Step [200/600], Loss: 0.6051, Accuracy: 90.00%\n",
      "Epoch [10/15], Step [300/600], Loss: 0.5721, Accuracy: 82.00%\n",
      "Epoch [10/15], Step [400/600], Loss: 0.5460, Accuracy: 85.00%\n",
      "Epoch [10/15], Step [500/600], Loss: 0.1406, Accuracy: 94.00%\n",
      "Epoch [10/15], Step [600/600], Loss: 0.4485, Accuracy: 89.00%\n",
      "Epoch [11/15], Step [100/600], Loss: 0.4436, Accuracy: 91.00%\n",
      "Epoch [11/15], Step [200/600], Loss: 0.8062, Accuracy: 81.00%\n",
      "Epoch [11/15], Step [300/600], Loss: 0.6353, Accuracy: 82.00%\n",
      "Epoch [11/15], Step [400/600], Loss: 0.6627, Accuracy: 86.00%\n",
      "Epoch [11/15], Step [500/600], Loss: 0.2964, Accuracy: 94.00%\n",
      "Epoch [11/15], Step [600/600], Loss: 0.3789, Accuracy: 85.00%\n",
      "Epoch [12/15], Step [100/600], Loss: 0.5961, Accuracy: 89.00%\n",
      "Epoch [12/15], Step [200/600], Loss: 0.3656, Accuracy: 90.00%\n",
      "Epoch [12/15], Step [300/600], Loss: 0.4110, Accuracy: 92.00%\n",
      "Epoch [12/15], Step [400/600], Loss: 0.1807, Accuracy: 93.00%\n",
      "Epoch [12/15], Step [500/600], Loss: 0.5904, Accuracy: 83.00%\n",
      "Epoch [12/15], Step [600/600], Loss: 0.4520, Accuracy: 92.00%\n",
      "Epoch [13/15], Step [100/600], Loss: 0.4929, Accuracy: 89.00%\n",
      "Epoch [13/15], Step [200/600], Loss: 0.5718, Accuracy: 92.00%\n",
      "Epoch [13/15], Step [300/600], Loss: 0.4416, Accuracy: 90.00%\n",
      "Epoch [13/15], Step [400/600], Loss: 0.4376, Accuracy: 88.00%\n",
      "Epoch [13/15], Step [500/600], Loss: 0.3686, Accuracy: 92.00%\n",
      "Epoch [13/15], Step [600/600], Loss: 0.5013, Accuracy: 92.00%\n",
      "Epoch [14/15], Step [100/600], Loss: 0.5819, Accuracy: 88.00%\n",
      "Epoch [14/15], Step [200/600], Loss: 0.1579, Accuracy: 95.00%\n",
      "Epoch [14/15], Step [300/600], Loss: 0.4715, Accuracy: 91.00%\n",
      "Epoch [14/15], Step [400/600], Loss: 0.5503, Accuracy: 86.00%\n",
      "Epoch [14/15], Step [500/600], Loss: 0.5453, Accuracy: 87.00%\n",
      "Epoch [14/15], Step [600/600], Loss: 0.4013, Accuracy: 89.00%\n",
      "Epoch [15/15], Step [100/600], Loss: 0.5179, Accuracy: 90.00%\n",
      "Epoch [15/15], Step [200/600], Loss: 0.3529, Accuracy: 92.00%\n",
      "Epoch [15/15], Step [300/600], Loss: 0.6384, Accuracy: 89.00%\n",
      "Epoch [15/15], Step [400/600], Loss: 0.3100, Accuracy: 90.00%\n",
      "Epoch [15/15], Step [500/600], Loss: 0.3353, Accuracy: 94.00%\n",
      "Epoch [15/15], Step [600/600], Loss: 0.4446, Accuracy: 86.00%\n"
     ]
    }
   ],
   "source": [
    "for epoch in range(training_epochs):\n",
    "    for i, (imgs, labels) in enumerate(train_loader):\n",
    "        imgs, labels = imgs.to(device), labels.to(device)\n",
    "        imgs = imgs.view(-1, 28 * 28)\n",
    "\n",
    "        outputs = linear(imgs)\n",
    "        loss = criterion(outputs, labels)\n",
    "\n",
    "        optimizer.zero_grad() # optimizer zero grad\n",
    "        loss.backward() # loss backward\n",
    "        optimizer.step() # optimizer step\n",
    "\n",
    "        _, argmax = torch.max(outputs, 1)\n",
    "        accuracy = (labels == argmax).float().mean()\n",
    "\n",
    "        if (i+1) % 100 == 0:\n",
    "            print('Epoch [{}/{}], Step [{}/{}], Loss: {:.4f}, Accuracy: {:.2f}%'.format(\n",
    "                epoch+1, training_epochs, i+1, len(train_loader), loss.item(), accuracy.item() * 100))"
   ]
  },
  {
   "cell_type": "markdown",
   "metadata": {},
   "source": [
    "#### Q5. Test"
   ]
  },
  {
   "cell_type": "code",
   "execution_count": 7,
   "metadata": {},
   "outputs": [
    {
     "name": "stdout",
     "output_type": "stream",
     "text": [
      "Test accuracy for 10000 images: 89.36%\n"
     ]
    }
   ],
   "source": [
    "linear.eval()\n",
    "with torch.no_grad():\n",
    "    correct = 0\n",
    "    total = 0\n",
    "    for i, (imgs, labels) in enumerate(test_loader):\n",
    "        imgs, labels = imgs.to(device), labels.to(device)\n",
    "        imgs = imgs.view(-1, 28 * 28)\n",
    "\n",
    "        outputs = linear(imgs)\n",
    "        _, argmax = torch.max(outputs, 1) # max()를 통해 최종 출력이 가장 높은 class 선택\n",
    "        total += imgs.size(0)\n",
    "        correct += (labels == argmax).sum().item()\n",
    "\n",
    "    print('Test accuracy for {} images: {:.2f}%'.format(total, correct / total * 100))"
   ]
  }
 ],
 "metadata": {
  "interpreter": {
   "hash": "653d79336d89b7ad33e2a2f4c80c1cdae17151a2236a2d1b85b40cc72bd8e1b5"
  },
  "kernelspec": {
   "display_name": "Python 3.6.8 64-bit",
   "language": "python",
   "name": "python3"
  },
  "language_info": {
   "codemirror_mode": {
    "name": "ipython",
    "version": 3
   },
   "file_extension": ".py",
   "mimetype": "text/x-python",
   "name": "python",
   "nbconvert_exporter": "python",
   "pygments_lexer": "ipython3",
   "version": "3.6.8"
  },
  "orig_nbformat": 4
 },
 "nbformat": 4,
 "nbformat_minor": 2
}
