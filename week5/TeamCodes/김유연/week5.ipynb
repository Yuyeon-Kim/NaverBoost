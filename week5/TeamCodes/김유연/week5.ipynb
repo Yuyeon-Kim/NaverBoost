{
 "cells": [
  {
   "cell_type": "markdown",
   "metadata": {},
   "source": [
    "김유연 week 5 미션 풀이\n",
    "============="
   ]
  },
  {
   "cell_type": "markdown",
   "metadata": {},
   "source": [
    "#### Imports"
   ]
  },
  {
   "cell_type": "code",
   "execution_count": 1,
   "metadata": {},
   "outputs": [],
   "source": [
    "import torch\n",
    "import torch.nn as nn\n",
    "import torchvision.datasets as dset\n",
    "import torchvision.transforms as transforms\n",
    "from torch.utils.data import DataLoader\n",
    "\n",
    "import matplotlib.pyplot as plt"
   ]
  },
  {
   "cell_type": "markdown",
   "metadata": {},
   "source": [
    "#### Q1."
   ]
  },
  {
   "cell_type": "markdown",
   "metadata": {},
   "source": [
    "#### Hyperparameters"
   ]
  },
  {
   "cell_type": "code",
   "execution_count": 2,
   "metadata": {},
   "outputs": [],
   "source": [
    "# Hyperparameter\n",
    "H, W = 28, 28\n",
    "channel = 3\n",
    "input_size = H * W\n",
    "num_classes = 10\n",
    "learning_rate = 0.01\n",
    "training_epochs = 15\n",
    "batch_size = 100\n",
    "\n",
    "root = '../data'\n"
   ]
  },
  {
   "cell_type": "markdown",
   "metadata": {},
   "source": [
    "#### Load Data"
   ]
  },
  {
   "cell_type": "code",
   "execution_count": 3,
   "metadata": {},
   "outputs": [],
   "source": [
    "# load data\n",
    "mnist_train = dset.MNIST(root=root, train=True, transform=transforms.ToTensor(), download=True)\n",
    "mnist_test = dset.MNIST(root=root, train=False, transform=transforms.ToTensor(), download=True)\n",
    "\n",
    "train_loader = DataLoader(mnist_train, batch_size=batch_size, shuffle=True, drop_last=True)\n",
    "test_loader = DataLoader(mnist_test, batch_size=batch_size, shuffle=False, drop_last=True)"
   ]
  },
  {
   "cell_type": "markdown",
   "metadata": {},
   "source": [
    "#### Q2. "
   ]
  },
  {
   "cell_type": "markdown",
   "metadata": {},
   "source": [
    "#### Check Hardware"
   ]
  },
  {
   "cell_type": "code",
   "execution_count": 4,
   "metadata": {},
   "outputs": [],
   "source": [
    "# check cuda\n",
    "device = torch.device('cuda' if torch.cuda.is_available() else 'cpu')"
   ]
  },
  {
   "cell_type": "markdown",
   "metadata": {},
   "source": [
    "#### Build and Initialize Model"
   ]
  },
  {
   "cell_type": "code",
   "execution_count": 5,
   "metadata": {},
   "outputs": [
    {
     "data": {
      "text/plain": [
       "Parameter containing:\n",
       "tensor([[ 0.0855, -0.0972, -0.2768,  ...,  0.3174, -2.2124, -0.1031],\n",
       "        [ 0.1477,  0.2501,  1.0751,  ...,  0.8069,  0.2230, -0.0515],\n",
       "        [-2.1149,  0.1045,  0.7044,  ..., -0.4835, -0.3740,  0.4427],\n",
       "        ...,\n",
       "        [-0.8608, -1.0134, -0.4477,  ...,  0.3671, -1.7876,  1.1685],\n",
       "        [-0.5446,  1.7157, -0.4325,  ...,  1.0610,  0.9307, -0.9435],\n",
       "        [-0.5206,  0.5557,  0.9156,  ...,  0.3312,  1.0920, -0.0396]],\n",
       "       device='cuda:0', requires_grad=True)"
      ]
     },
     "execution_count": 5,
     "metadata": {},
     "output_type": "execute_result"
    }
   ],
   "source": [
    "# build linear model\n",
    "linear = nn.Linear(in_features=input_size, out_features=num_classes, bias=True).to(device)\n",
    "\n",
    "# weight init\n",
    "torch.nn.init.normal_(linear.weight)"
   ]
  },
  {
   "cell_type": "markdown",
   "metadata": {},
   "source": [
    "#### Q3. Loss and optimizer"
   ]
  },
  {
   "cell_type": "code",
   "execution_count": 6,
   "metadata": {},
   "outputs": [],
   "source": [
    "# Loss fn - Cross Entropy Loss\n",
    "criterion = torch.nn.CrossEntropyLoss().to(device)\n",
    "\n",
    "# optimizer - SGD\n",
    "optimizer = torch.optim.SGD(linear.parameters(), lr = learning_rate)"
   ]
  },
  {
   "cell_type": "markdown",
   "metadata": {},
   "source": [
    "#### Q4. Train"
   ]
  },
  {
   "cell_type": "code",
   "execution_count": 7,
   "metadata": {},
   "outputs": [],
   "source": [
    "loss_list = []\n",
    "accuracy_list = []"
   ]
  },
  {
   "cell_type": "code",
   "execution_count": 8,
   "metadata": {},
   "outputs": [
    {
     "name": "stdout",
     "output_type": "stream",
     "text": [
      "Epoch [1/15], Step [100/600], Loss: 8.4558, Accuracy: 7.00%\n",
      "Epoch [1/15], Step [200/600], Loss: 8.3550, Accuracy: 18.00%\n",
      "Epoch [1/15], Step [300/600], Loss: 6.2916, Accuracy: 25.00%\n",
      "Epoch [1/15], Step [400/600], Loss: 6.3787, Accuracy: 24.00%\n",
      "Epoch [1/15], Step [500/600], Loss: 5.7844, Accuracy: 34.00%\n",
      "Epoch [1/15], Step [600/600], Loss: 4.8565, Accuracy: 27.00%\n",
      "Epoch [2/15], Step [100/600], Loss: 4.2074, Accuracy: 44.00%\n",
      "Epoch [2/15], Step [200/600], Loss: 4.1450, Accuracy: 36.00%\n",
      "Epoch [2/15], Step [300/600], Loss: 3.2378, Accuracy: 49.00%\n",
      "Epoch [2/15], Step [400/600], Loss: 4.2292, Accuracy: 44.00%\n",
      "Epoch [2/15], Step [500/600], Loss: 2.9246, Accuracy: 55.00%\n",
      "Epoch [2/15], Step [600/600], Loss: 3.8639, Accuracy: 45.00%\n",
      "Epoch [3/15], Step [100/600], Loss: 2.7340, Accuracy: 49.00%\n",
      "Epoch [3/15], Step [200/600], Loss: 2.4827, Accuracy: 57.00%\n",
      "Epoch [3/15], Step [300/600], Loss: 3.4570, Accuracy: 49.00%\n",
      "Epoch [3/15], Step [400/600], Loss: 2.5950, Accuracy: 51.00%\n",
      "Epoch [3/15], Step [500/600], Loss: 2.6384, Accuracy: 51.00%\n",
      "Epoch [3/15], Step [600/600], Loss: 2.7538, Accuracy: 54.00%\n",
      "Epoch [4/15], Step [100/600], Loss: 2.2553, Accuracy: 58.00%\n",
      "Epoch [4/15], Step [200/600], Loss: 2.8358, Accuracy: 53.00%\n",
      "Epoch [4/15], Step [300/600], Loss: 1.8123, Accuracy: 69.00%\n",
      "Epoch [4/15], Step [400/600], Loss: 2.7080, Accuracy: 61.00%\n",
      "Epoch [4/15], Step [500/600], Loss: 2.7425, Accuracy: 64.00%\n",
      "Epoch [4/15], Step [600/600], Loss: 2.3973, Accuracy: 63.00%\n",
      "Epoch [5/15], Step [100/600], Loss: 1.5687, Accuracy: 71.00%\n",
      "Epoch [5/15], Step [200/600], Loss: 1.8858, Accuracy: 63.00%\n",
      "Epoch [5/15], Step [300/600], Loss: 1.7303, Accuracy: 70.00%\n",
      "Epoch [5/15], Step [400/600], Loss: 1.7356, Accuracy: 65.00%\n",
      "Epoch [5/15], Step [500/600], Loss: 1.7881, Accuracy: 69.00%\n",
      "Epoch [5/15], Step [600/600], Loss: 2.0850, Accuracy: 60.00%\n",
      "Epoch [6/15], Step [100/600], Loss: 2.2396, Accuracy: 58.00%\n",
      "Epoch [6/15], Step [200/600], Loss: 1.6265, Accuracy: 64.00%\n",
      "Epoch [6/15], Step [300/600], Loss: 2.5576, Accuracy: 60.00%\n",
      "Epoch [6/15], Step [400/600], Loss: 1.5159, Accuracy: 74.00%\n",
      "Epoch [6/15], Step [500/600], Loss: 2.7454, Accuracy: 56.00%\n",
      "Epoch [6/15], Step [600/600], Loss: 1.5682, Accuracy: 75.00%\n",
      "Epoch [7/15], Step [100/600], Loss: 1.7471, Accuracy: 76.00%\n",
      "Epoch [7/15], Step [200/600], Loss: 1.4081, Accuracy: 69.00%\n",
      "Epoch [7/15], Step [300/600], Loss: 1.5524, Accuracy: 77.00%\n",
      "Epoch [7/15], Step [400/600], Loss: 1.5923, Accuracy: 68.00%\n",
      "Epoch [7/15], Step [500/600], Loss: 1.7990, Accuracy: 69.00%\n",
      "Epoch [7/15], Step [600/600], Loss: 1.5813, Accuracy: 76.00%\n",
      "Epoch [8/15], Step [100/600], Loss: 1.2072, Accuracy: 71.00%\n",
      "Epoch [8/15], Step [200/600], Loss: 1.6272, Accuracy: 69.00%\n",
      "Epoch [8/15], Step [300/600], Loss: 1.0956, Accuracy: 75.00%\n",
      "Epoch [8/15], Step [400/600], Loss: 1.0052, Accuracy: 79.00%\n",
      "Epoch [8/15], Step [500/600], Loss: 1.4922, Accuracy: 71.00%\n",
      "Epoch [8/15], Step [600/600], Loss: 1.2505, Accuracy: 73.00%\n",
      "Epoch [9/15], Step [100/600], Loss: 0.9919, Accuracy: 77.00%\n",
      "Epoch [9/15], Step [200/600], Loss: 1.5134, Accuracy: 68.00%\n",
      "Epoch [9/15], Step [300/600], Loss: 1.4130, Accuracy: 76.00%\n",
      "Epoch [9/15], Step [400/600], Loss: 0.9684, Accuracy: 78.00%\n",
      "Epoch [9/15], Step [500/600], Loss: 1.6718, Accuracy: 73.00%\n",
      "Epoch [9/15], Step [600/600], Loss: 1.4147, Accuracy: 75.00%\n",
      "Epoch [10/15], Step [100/600], Loss: 1.5460, Accuracy: 74.00%\n",
      "Epoch [10/15], Step [200/600], Loss: 1.5867, Accuracy: 69.00%\n",
      "Epoch [10/15], Step [300/600], Loss: 1.5324, Accuracy: 75.00%\n",
      "Epoch [10/15], Step [400/600], Loss: 1.1465, Accuracy: 78.00%\n",
      "Epoch [10/15], Step [500/600], Loss: 0.9441, Accuracy: 79.00%\n",
      "Epoch [10/15], Step [600/600], Loss: 1.3666, Accuracy: 74.00%\n",
      "Epoch [11/15], Step [100/600], Loss: 0.6652, Accuracy: 85.00%\n",
      "Epoch [11/15], Step [200/600], Loss: 1.3505, Accuracy: 77.00%\n",
      "Epoch [11/15], Step [300/600], Loss: 1.0594, Accuracy: 78.00%\n",
      "Epoch [11/15], Step [400/600], Loss: 1.2665, Accuracy: 69.00%\n",
      "Epoch [11/15], Step [500/600], Loss: 1.2687, Accuracy: 78.00%\n",
      "Epoch [11/15], Step [600/600], Loss: 1.1405, Accuracy: 79.00%\n",
      "Epoch [12/15], Step [100/600], Loss: 1.3410, Accuracy: 67.00%\n",
      "Epoch [12/15], Step [200/600], Loss: 1.9488, Accuracy: 69.00%\n",
      "Epoch [12/15], Step [300/600], Loss: 1.0120, Accuracy: 80.00%\n",
      "Epoch [12/15], Step [400/600], Loss: 0.7788, Accuracy: 77.00%\n",
      "Epoch [12/15], Step [500/600], Loss: 1.4817, Accuracy: 72.00%\n",
      "Epoch [12/15], Step [600/600], Loss: 1.7380, Accuracy: 67.00%\n",
      "Epoch [13/15], Step [100/600], Loss: 1.0163, Accuracy: 73.00%\n",
      "Epoch [13/15], Step [200/600], Loss: 1.3338, Accuracy: 78.00%\n",
      "Epoch [13/15], Step [300/600], Loss: 0.7471, Accuracy: 82.00%\n",
      "Epoch [13/15], Step [400/600], Loss: 1.2170, Accuracy: 75.00%\n",
      "Epoch [13/15], Step [500/600], Loss: 1.2192, Accuracy: 76.00%\n",
      "Epoch [13/15], Step [600/600], Loss: 1.1956, Accuracy: 78.00%\n",
      "Epoch [14/15], Step [100/600], Loss: 1.3354, Accuracy: 76.00%\n",
      "Epoch [14/15], Step [200/600], Loss: 1.0467, Accuracy: 84.00%\n",
      "Epoch [14/15], Step [300/600], Loss: 1.4565, Accuracy: 75.00%\n",
      "Epoch [14/15], Step [400/600], Loss: 0.9383, Accuracy: 83.00%\n",
      "Epoch [14/15], Step [500/600], Loss: 0.9368, Accuracy: 77.00%\n",
      "Epoch [14/15], Step [600/600], Loss: 0.8886, Accuracy: 84.00%\n",
      "Epoch [15/15], Step [100/600], Loss: 1.3394, Accuracy: 75.00%\n",
      "Epoch [15/15], Step [200/600], Loss: 0.8450, Accuracy: 83.00%\n",
      "Epoch [15/15], Step [300/600], Loss: 1.1503, Accuracy: 78.00%\n",
      "Epoch [15/15], Step [400/600], Loss: 0.9754, Accuracy: 80.00%\n",
      "Epoch [15/15], Step [500/600], Loss: 0.7183, Accuracy: 85.00%\n",
      "Epoch [15/15], Step [600/600], Loss: 1.1953, Accuracy: 77.00%\n"
     ]
    }
   ],
   "source": [
    "for epoch in range(training_epochs):\n",
    "    \n",
    "    temp_loss_list = []\n",
    "    temp_accuracy_list = []\n",
    "\n",
    "    for i, (imgs, labels) in enumerate(train_loader):\n",
    "        imgs, labels = imgs.to(device), labels.to(device)\n",
    "        imgs = imgs.view(-1, 28 * 28)\n",
    "\n",
    "        outputs = linear(imgs)\n",
    "        loss = criterion(outputs, labels)\n",
    "\n",
    "        optimizer.zero_grad() # optimizer zero grad\n",
    "        loss.backward() # loss backward\n",
    "        optimizer.step() # optimizer step\n",
    "\n",
    "        _, argmax = torch.max(outputs, 1)\n",
    "        accuracy = (labels == argmax).float().mean()\n",
    "        \n",
    "        temp_loss_list.append(loss.item())\n",
    "        temp_accuracy_list.append(accuracy.item())\n",
    "\n",
    "        if (i+1) % 100 == 0:\n",
    "            print('Epoch [{}/{}], Step [{}/{}], Loss: {:.4f}, Accuracy: {:.2f}%'.format(\n",
    "                epoch+1, training_epochs, i+1, len(train_loader), loss.item(), accuracy.item() * 100))\n",
    "\n",
    "    loss_list.append(sum(temp_loss_list)/len(temp_loss_list))\n",
    "    accuracy_list.append(sum(temp_accuracy_list)/len(temp_accuracy_list))"
   ]
  },
  {
   "cell_type": "markdown",
   "metadata": {},
   "source": [
    "#### Q5. Test"
   ]
  },
  {
   "cell_type": "code",
   "execution_count": 9,
   "metadata": {},
   "outputs": [
    {
     "name": "stdout",
     "output_type": "stream",
     "text": [
      "Test accuracy for 10000 images: 79.94%\n"
     ]
    }
   ],
   "source": [
    "linear.eval()\n",
    "with torch.no_grad():\n",
    "    correct = 0\n",
    "    total = 0\n",
    "    for i, (imgs, labels) in enumerate(test_loader):\n",
    "        imgs, labels = imgs.to(device), labels.to(device)\n",
    "        imgs = imgs.view(-1, 28 * 28)\n",
    "\n",
    "        outputs = linear(imgs)\n",
    "        _, argmax = torch.max(outputs, 1) # max()를 통해 최종 출력이 가장 높은 class 선택\n",
    "        total += imgs.size(0)\n",
    "        correct += (labels == argmax).sum().item()\n",
    "\n",
    "    print('Test accuracy for {} images: {:.2f}%'.format(total, correct / total * 100))"
   ]
  },
  {
   "cell_type": "markdown",
   "metadata": {},
   "source": [
    "#### Train Visualize"
   ]
  },
  {
   "cell_type": "code",
   "execution_count": 10,
   "metadata": {},
   "outputs": [
    {
     "data": {
      "image/png": "[encoded data removed]",
      "text/plain": [
       "<Figure size 720x360 with 2 Axes>"
      ]
     },
     "metadata": {
      "needs_background": "light"
     },
     "output_type": "display_data"
    }
   ],
   "source": [
    "plt.figure(figsize=(10,5))\n",
    "\n",
    "plt.subplot(1,2,1)\n",
    "plt.xlabel('Epoch')\n",
    "plt.ylabel('Loss')\n",
    "plt.plot(loss_list)\n",
    "\n",
    "plt.subplot(1,2,2)\n",
    "plt.xlabel('Epoch')\n",
    "plt.ylabel('Accuracy')\n",
    "plt.plot(accuracy_list)\n",
    "\n",
    "plt.show()"
   ]
  }
 ],
 "metadata": {
  "interpreter": {
   "hash": "653d79336d89b7ad33e2a2f4c80c1cdae17151a2236a2d1b85b40cc72bd8e1b5"
  },
  "kernelspec": {
   "display_name": "Python 3.6.8 64-bit",
   "language": "python",
   "name": "python3"
  },
  "language_info": {
   "codemirror_mode": {
    "name": "ipython",
    "version": 3
   },
   "file_extension": ".py",
   "mimetype": "text/x-python",
   "name": "python",
   "nbconvert_exporter": "python",
   "pygments_lexer": "ipython3",
   "version": "3.6.8"
  },
  "orig_nbformat": 4
 },
 "nbformat": 4,
 "nbformat_minor": 2
}
