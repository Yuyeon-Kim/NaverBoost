{
 "cells": [
  {
   "cell_type": "code",
   "execution_count": null,
   "id": "d4f8b730",
   "metadata": {},
   "outputs": [],
   "source": [
    "# linear regression을 경사하강법으로 학습하는 코드를 구현해봅시다.\n",
    "# 경사하강법 구현을 위한 학습 Loop를 구현해보세요.\n",
    "# 최종적으로 1000회 반복했을 시에 결과를 출력하세요."
   ]
  },
  {
   "cell_type": "code",
   "execution_count": 36,
   "id": "9f0eaa26",
   "metadata": {},
   "outputs": [],
   "source": [
    "import numpy as np"
   ]
  },
  {
   "cell_type": "code",
   "execution_count": 37,
   "id": "b516d60f",
   "metadata": {},
   "outputs": [],
   "source": [
    "xy = np.array([[1., 2., 3., 4., 5., 6.],\n",
    "               [3., 6., 9., 12., 15., 18.]])"
   ]
  },
  {
   "cell_type": "code",
   "execution_count": 38,
   "id": "394c4170",
   "metadata": {},
   "outputs": [],
   "source": [
    "x_train = xy[0]\n",
    "y_train = xy[1]"
   ]
  },
  {
   "cell_type": "code",
   "execution_count": 39,
   "id": "98c79807",
   "metadata": {},
   "outputs": [],
   "source": [
    "beta_gd = np.random.rand(1) #기울기, 곧 weight\n",
    "bias = np.random.rand(1) #y절편"
   ]
  },
  {
   "cell_type": "code",
   "execution_count": 40,
   "id": "19af9e8d",
   "metadata": {},
   "outputs": [],
   "source": [
    "learning_rate = 0.001"
   ]
  },
  {
   "cell_type": "code",
   "execution_count": 41,
   "id": "7fa5d976",
   "metadata": {
    "scrolled": true
   },
   "outputs": [
    {
     "name": "stdout",
     "output_type": "stream",
     "text": [
      "Epoch (         0/1000) error:  54.325057 beta_gd:   1.043126 bias:   0.544372\n",
      "Epoch (       100/1000) error:   0.243004 beta_gd:   2.718794 bias:   0.899878\n",
      "Epoch (       200/1000) error:   0.150194 beta_gd:   2.791185 bias:   0.882179\n",
      "Epoch (       300/1000) error:   0.139506 beta_gd:   2.801088 bias:   0.851124\n",
      "Epoch (       400/1000) error:   0.129685 beta_gd:   2.808311 bias:   0.820639\n",
      "Epoch (       500/1000) error:   0.120555 beta_gd:   2.815186 bias:   0.791226\n",
      "Epoch (       600/1000) error:   0.112068 beta_gd:   2.821810 bias:   0.762866\n",
      "Epoch (       700/1000) error:   0.104178 beta_gd:   2.828197 bias:   0.735523\n",
      "Epoch (       800/1000) error:   0.096844 beta_gd:   2.834355 bias:   0.709159\n",
      "Epoch (       900/1000) error:   0.090026 beta_gd:   2.840292 bias:   0.683741\n"
     ]
    }
   ],
   "source": [
    "for i in range(1000):\n",
    "    \n",
    "    #y 예측 값을 구하는 식 (일차함수 식이 y=ax+b인 것처럼 씀)\n",
    "    y_pred = (beta_gd * x_train) + bias \n",
    "    \n",
    "    #error는 차이의 제곱을 이용해 계산\n",
    "    error = ((y_pred - y_train) ** 2).mean() #여기에는 왜 mean()을 달지?\n",
    "    \n",
    "    gd_w = ((y_pred - y_train) * 2 * x_train).mean()\n",
    "    gd_b = ((y_pred - y_train) * 2).mean()\n",
    "    \n",
    "    beta_gd = beta_gd - learning_rate * gd_w\n",
    "    bias = bias - learning_rate * gd_b\n",
    "    \n",
    "    if i % 100 == 0:\n",
    "        print('Epoch ({:10d}/1000) error: {:10f} beta_gd: {:10f} bias: {:10f}'.format(i, error, beta_gd.item(), bias.item()))"
   ]
  }
 ],
 "metadata": {
  "kernelspec": {
   "display_name": "Python 3 (ipykernel)",
   "language": "python",
   "name": "python3"
  },
  "language_info": {
   "codemirror_mode": {
    "name": "ipython",
    "version": 3
   },
   "file_extension": ".py",
   "mimetype": "text/x-python",
   "name": "python",
   "nbconvert_exporter": "python",
   "pygments_lexer": "ipython3",
   "version": "3.8.10"
  }
 },
 "nbformat": 4,
 "nbformat_minor": 5
}
