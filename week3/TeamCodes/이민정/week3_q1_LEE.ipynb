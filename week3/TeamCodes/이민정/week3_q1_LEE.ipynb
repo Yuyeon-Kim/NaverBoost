{
 "cells": [
  {
   "cell_type": "code",
   "execution_count": 1,
   "id": "a937961b",
   "metadata": {},
   "outputs": [],
   "source": [
    "#무작위의 데이터를 가진 5x3의 행렬을 가지는 numpy array와 3x2 행렬을 가지는 numpy array를 만든 후 행열곱 연산"
   ]
  },
  {
   "cell_type": "code",
   "execution_count": 2,
   "id": "0a0c37c6",
   "metadata": {},
   "outputs": [],
   "source": [
    "import numpy as np"
   ]
  },
  {
   "cell_type": "code",
   "execution_count": 3,
   "id": "761937ce",
   "metadata": {},
   "outputs": [],
   "source": [
    "arr1 = np.random.rand(5, 3)\n",
    "arr2 = np.random.rand(3, 2)"
   ]
  },
  {
   "cell_type": "code",
   "execution_count": 4,
   "id": "8d91503f",
   "metadata": {},
   "outputs": [],
   "source": [
    "dot = arr1 @ arr2 #행열곱 연산자 @ 사용하여 곱했습니다."
   ]
  },
  {
   "cell_type": "code",
   "execution_count": 5,
   "id": "3decaf82",
   "metadata": {
    "scrolled": false
   },
   "outputs": [
    {
     "name": "stdout",
     "output_type": "stream",
     "text": [
      "[[0.74103245 0.62580252]\n",
      " [1.49128997 1.12257838]\n",
      " [1.15479259 0.84219928]\n",
      " [0.67503183 0.40224316]\n",
      " [0.9188444  0.63073711]] (5, 2)\n"
     ]
    }
   ],
   "source": [
    "print(dot, dot.shape)"
   ]
  },
  {
   "cell_type": "code",
   "execution_count": 7,
   "id": "49137096",
   "metadata": {},
   "outputs": [],
   "source": [
    "#uniform도 한 번 사용해보았습니다.\n",
    "\n",
    "arr3 = np.random.uniform(size=(5, 3))\n",
    "arr4 = np.random.uniform(size=(3, 2))"
   ]
  },
  {
   "cell_type": "code",
   "execution_count": 8,
   "id": "002d82a7",
   "metadata": {},
   "outputs": [],
   "source": [
    "dot = arr3.dot(arr4) #내적으로 행열곱 구하기"
   ]
  },
  {
   "cell_type": "code",
   "execution_count": 9,
   "id": "4d96eda2",
   "metadata": {},
   "outputs": [
    {
     "name": "stdout",
     "output_type": "stream",
     "text": [
      "[[0.17275493 0.26863354]\n",
      " [0.23152892 0.28484951]\n",
      " [0.37825786 0.47983053]\n",
      " [0.30302065 0.28413834]\n",
      " [0.47271359 0.63086405]] (5, 2)\n"
     ]
    }
   ],
   "source": [
    "print(dot, dot.shape)"
   ]
  }
 ],
 "metadata": {
  "kernelspec": {
   "display_name": "Python 3 (ipykernel)",
   "language": "python",
   "name": "python3"
  },
  "language_info": {
   "codemirror_mode": {
    "name": "ipython",
    "version": 3
   },
   "file_extension": ".py",
   "mimetype": "text/x-python",
   "name": "python",
   "nbconvert_exporter": "python",
   "pygments_lexer": "ipython3",
   "version": "3.8.10"
  }
 },
 "nbformat": 4,
 "nbformat_minor": 5
}
