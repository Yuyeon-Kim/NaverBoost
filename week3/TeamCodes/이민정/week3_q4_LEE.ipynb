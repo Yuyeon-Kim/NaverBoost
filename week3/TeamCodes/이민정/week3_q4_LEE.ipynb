{
 "cells": [
  {
   "cell_type": "code",
   "execution_count": 8,
   "id": "828091c6",
   "metadata": {},
   "outputs": [],
   "source": [
    "# x_train 데이터와 계산될 weight, bias 값 정의하기\n",
    "# weight와 bias 는 linear regression 계산을 진행할시 직선의 기울기와 y 절편의 값이 됩니다.\n",
    "# numpy 내의 random 함수를 이용해보세요."
   ]
  },
  {
   "cell_type": "code",
   "execution_count": 9,
   "id": "162e0798",
   "metadata": {},
   "outputs": [],
   "source": [
    "import numpy as np"
   ]
  },
  {
   "cell_type": "code",
   "execution_count": 10,
   "id": "47c2ea3d",
   "metadata": {},
   "outputs": [],
   "source": [
    "xy = np.array([[1., 2., 3., 4., 5., 6.],\n",
    "               [10., 20., 30., 40., 50., 60.]])"
   ]
  },
  {
   "cell_type": "code",
   "execution_count": 11,
   "id": "0f01a8ba",
   "metadata": {},
   "outputs": [],
   "source": [
    "x_train = xy[0]\n",
    "y_train = xy[1]"
   ]
  },
  {
   "cell_type": "code",
   "execution_count": 12,
   "id": "5220c784",
   "metadata": {},
   "outputs": [],
   "source": [
    "#The rand() method는 0과 1 사이 랜덤 실수 반환\n",
    "#The rand() method에서 ()안에 숫자 넣으면 array의 모양 결정도 가능\n",
    "\n",
    "beta_gd = np.random.rand(1) #1-D array containing 1 random floats\n",
    "bias = np.random.rand(1) #1-D array containing 1 random floats"
   ]
  },
  {
   "cell_type": "code",
   "execution_count": 13,
   "id": "d83a565d",
   "metadata": {},
   "outputs": [
    {
     "name": "stdout",
     "output_type": "stream",
     "text": [
      "[0.50240854] [0.86866495]\n"
     ]
    }
   ],
   "source": [
    "print(beta_gd, bias)"
   ]
  }
 ],
 "metadata": {
  "kernelspec": {
   "display_name": "Python 3 (ipykernel)",
   "language": "python",
   "name": "python3"
  },
  "language_info": {
   "codemirror_mode": {
    "name": "ipython",
    "version": 3
   },
   "file_extension": ".py",
   "mimetype": "text/x-python",
   "name": "python",
   "nbconvert_exporter": "python",
   "pygments_lexer": "ipython3",
   "version": "3.8.10"
  }
 },
 "nbformat": 4,
 "nbformat_minor": 5
}
