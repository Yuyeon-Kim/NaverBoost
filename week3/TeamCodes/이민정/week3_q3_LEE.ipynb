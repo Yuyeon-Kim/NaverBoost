{
 "cells": [
  {
   "cell_type": "code",
   "execution_count": 1,
   "id": "61784be8",
   "metadata": {},
   "outputs": [],
   "source": [
    "#numpy를 이용해서 정답값을 예측해보는 linear regression을 구현하는 미션\n",
    "#경사하강법을 위한 데이터 분리하기"
   ]
  },
  {
   "cell_type": "code",
   "execution_count": 2,
   "id": "f00de56c",
   "metadata": {},
   "outputs": [],
   "source": [
    "import numpy as np"
   ]
  },
  {
   "cell_type": "code",
   "execution_count": 3,
   "id": "5c14d86c",
   "metadata": {},
   "outputs": [],
   "source": [
    "xy = np.array([[1., 2., 3., 4., 5., 6.],\n",
    "               [10., 20., 30., 40., 50., 60.]])"
   ]
  },
  {
   "cell_type": "code",
   "execution_count": 4,
   "id": "e9731ad2",
   "metadata": {},
   "outputs": [],
   "source": [
    "#slicing을 활용하여 데이터 분리\n",
    "\n",
    "x_train = xy[0] #0번째 행만 잘라서 x_train 변수에 넣기\n",
    "y_train = xy[1] #1번째 행만 잘라서 y_train 변수에 넣기"
   ]
  },
  {
   "cell_type": "code",
   "execution_count": 5,
   "id": "6c533133",
   "metadata": {
    "scrolled": true
   },
   "outputs": [
    {
     "name": "stdout",
     "output_type": "stream",
     "text": [
      "[1. 2. 3. 4. 5. 6.] (6,)\n",
      "[10. 20. 30. 40. 50. 60.] (6,)\n"
     ]
    }
   ],
   "source": [
    "print(x_train, x_train.shape)\n",
    "print(y_train, y_train.shape)"
   ]
  }
 ],
 "metadata": {
  "kernelspec": {
   "display_name": "Python 3 (ipykernel)",
   "language": "python",
   "name": "python3"
  },
  "language_info": {
   "codemirror_mode": {
    "name": "ipython",
    "version": 3
   },
   "file_extension": ".py",
   "mimetype": "text/x-python",
   "name": "python",
   "nbconvert_exporter": "python",
   "pygments_lexer": "ipython3",
   "version": "3.8.10"
  }
 },
 "nbformat": 4,
 "nbformat_minor": 5
}
