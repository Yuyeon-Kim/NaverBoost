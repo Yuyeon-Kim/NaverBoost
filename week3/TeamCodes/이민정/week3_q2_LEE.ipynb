{
 "cells": [
  {
   "cell_type": "code",
   "execution_count": 1,
   "id": "bdc99958",
   "metadata": {},
   "outputs": [],
   "source": [
    "# 두 numpy array의 concatenate 연산"
   ]
  },
  {
   "cell_type": "code",
   "execution_count": 2,
   "id": "ab3514ce",
   "metadata": {},
   "outputs": [],
   "source": [
    "import numpy as np"
   ]
  },
  {
   "cell_type": "code",
   "execution_count": 3,
   "id": "2070c048",
   "metadata": {
    "scrolled": false
   },
   "outputs": [],
   "source": [
    "arr1 = np.array([[5, 7], [9, 11]], float)\n",
    "arr2 = np.array([[2, 4], [6, 8]], float)"
   ]
  },
  {
   "cell_type": "code",
   "execution_count": 4,
   "id": "39deb42a",
   "metadata": {},
   "outputs": [],
   "source": [
    "concat_1 = np.concatenate((arr1, arr2), axis=0)\n",
    "concat_2 = np.concatenate((arr1, arr2), axis=1)"
   ]
  },
  {
   "cell_type": "code",
   "execution_count": 5,
   "id": "a035bceb",
   "metadata": {
    "scrolled": true
   },
   "outputs": [
    {
     "name": "stdout",
     "output_type": "stream",
     "text": [
      "[[ 5.  7.]\n",
      " [ 9. 11.]\n",
      " [ 2.  4.]\n",
      " [ 6.  8.]]\n",
      "[[ 5.  7.  2.  4.]\n",
      " [ 9. 11.  6.  8.]]\n"
     ]
    }
   ],
   "source": [
    "print(concat_1)\n",
    "print(concat_2)"
   ]
  },
  {
   "cell_type": "code",
   "execution_count": 6,
   "id": "f93dcdf7",
   "metadata": {},
   "outputs": [
    {
     "name": "stdout",
     "output_type": "stream",
     "text": [
      "[[ 5.  7.]\n",
      " [ 9. 11.]\n",
      " [ 2.  4.]\n",
      " [ 6.  8.]]\n",
      "[[ 5.  7.  2.  4.]\n",
      " [ 9. 11.  6.  8.]]\n"
     ]
    }
   ],
   "source": [
    "#강의 교안에 나와 있던 vstack과 hstack도 활용해 보았습니다\n",
    "\n",
    "print(np.vstack((arr1, arr2)))\n",
    "print(np.hstack((arr1, arr2)))"
   ]
  }
 ],
 "metadata": {
  "kernelspec": {
   "display_name": "Python 3 (ipykernel)",
   "language": "python",
   "name": "python3"
  },
  "language_info": {
   "codemirror_mode": {
    "name": "ipython",
    "version": 3
   },
   "file_extension": ".py",
   "mimetype": "text/x-python",
   "name": "python",
   "nbconvert_exporter": "python",
   "pygments_lexer": "ipython3",
   "version": "3.8.10"
  }
 },
 "nbformat": 4,
 "nbformat_minor": 5
}
