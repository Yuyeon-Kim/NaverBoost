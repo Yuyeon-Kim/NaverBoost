{
 "cells": [
  {
   "cell_type": "markdown",
   "id": "3f55c48c",
   "metadata": {},
   "source": [
    "# 이민정 week4 팀 미션 문제 풀이"
   ]
  },
  {
   "cell_type": "markdown",
   "id": "67bca889",
   "metadata": {},
   "source": [
    "각종 모듈 임포트"
   ]
  },
  {
   "cell_type": "code",
   "execution_count": 22,
   "id": "13ec6d50",
   "metadata": {},
   "outputs": [],
   "source": [
    "import pandas as pd\n",
    "import numpy as np\n",
    "import matplotlib.pyplot as plt"
   ]
  },
  {
   "cell_type": "markdown",
   "id": "97d6eb9d",
   "metadata": {},
   "source": [
    "## Q1"
   ]
  },
  {
   "cell_type": "markdown",
   "id": "25e563a0",
   "metadata": {},
   "source": [
    "Pandas에서 지원하는 Series에 대해서 한번 다뤄보겠습니다.아래와 같이 인덱스와 데이터가 주어져있을때 Pandas의 Series 형태로 만들어보세요.\n",
    "\n",
    "주어진 데이터에서 10이상 20이하의 데이터만 출력하는 Series를 재정의 해보세요."
   ]
  },
  {
   "cell_type": "code",
   "execution_count": 23,
   "id": "abdbf49a",
   "metadata": {},
   "outputs": [],
   "source": [
    "idx = [\"HDD\", \"SSD\", \"USB\", \"CLOUD\"]\n",
    "data = [19, 11, 5, 97]"
   ]
  },
  {
   "cell_type": "code",
   "execution_count": 24,
   "id": "2db6a86d",
   "metadata": {
    "scrolled": true
   },
   "outputs": [
    {
     "name": "stdout",
     "output_type": "stream",
     "text": [
      "HDD      19\n",
      "SSD      11\n",
      "USB       5\n",
      "CLOUD    97\n",
      "dtype: int64\n"
     ]
    }
   ],
   "source": [
    "#위 데이터로 Series를 구현해보세요\n",
    "\n",
    "series = pd.Series(data, idx)\n",
    "print(series)"
   ]
  },
  {
   "cell_type": "code",
   "execution_count": 25,
   "id": "e8d6270b",
   "metadata": {
    "scrolled": true
   },
   "outputs": [
    {
     "name": "stdout",
     "output_type": "stream",
     "text": [
      "HDD    19\n",
      "SSD    11\n",
      "dtype: int64\n"
     ]
    }
   ],
   "source": [
    "#10 이상 20 이하의 데이터만 출력하는 series 재정의\n",
    "\n",
    "series = series[series >= 10][series <= 20]\n",
    "\n",
    "print(series)"
   ]
  },
  {
   "cell_type": "markdown",
   "id": "58493639",
   "metadata": {},
   "source": [
    "## Q2"
   ]
  },
  {
   "cell_type": "markdown",
   "id": "5001ba3f",
   "metadata": {},
   "source": [
    "Pandas에서 지원하는 Dataframe을 다뤄보도록 하겠습니다. 다음과 같이 과일과 야채 각각 정리된 데이터가 있습니다. 이 두 데이터를 따로 보기엔 효율성이 떨어지니, 각 표에 정리된 데이터를 각각 하나의 데이터 프레임으로 생성한 후 다음 세부 구현을 진행해보세요.\n",
    "\n",
    "두 데이터를 하나의 데이터로 결합해보세요.\n",
    "결합한 데이터의 type을 이용해 데이터를 정렬해보세요.\n",
    "최종적으로 과일과 야채 중 가장 비싼 가격의 합을 출력해보세요."
   ]
  },
  {
   "cell_type": "code",
   "execution_count": 26,
   "id": "d8ed5b9a",
   "metadata": {
    "scrolled": false
   },
   "outputs": [
    {
     "data": {
      "text/html": [
       "<div>\n",
       "<style scoped>\n",
       "    .dataframe tbody tr th:only-of-type {\n",
       "        vertical-align: middle;\n",
       "    }\n",
       "\n",
       "    .dataframe tbody tr th {\n",
       "        vertical-align: top;\n",
       "    }\n",
       "\n",
       "    .dataframe thead th {\n",
       "        text-align: right;\n",
       "    }\n",
       "</style>\n",
       "<table border=\"1\" class=\"dataframe\">\n",
       "  <thead>\n",
       "    <tr style=\"text-align: right;\">\n",
       "      <th></th>\n",
       "      <th>Name</th>\n",
       "      <th>Type</th>\n",
       "      <th>Price</th>\n",
       "    </tr>\n",
       "  </thead>\n",
       "  <tbody>\n",
       "    <tr>\n",
       "      <th>0</th>\n",
       "      <td>cherry</td>\n",
       "      <td>Fruit</td>\n",
       "      <td>100</td>\n",
       "    </tr>\n",
       "    <tr>\n",
       "      <th>1</th>\n",
       "      <td>mango</td>\n",
       "      <td>Fruit</td>\n",
       "      <td>110</td>\n",
       "    </tr>\n",
       "    <tr>\n",
       "      <th>2</th>\n",
       "      <td>potato</td>\n",
       "      <td>Vegetable</td>\n",
       "      <td>60</td>\n",
       "    </tr>\n",
       "    <tr>\n",
       "      <th>3</th>\n",
       "      <td>onion</td>\n",
       "      <td>Vegetable</td>\n",
       "      <td>80</td>\n",
       "    </tr>\n",
       "  </tbody>\n",
       "</table>\n",
       "</div>"
      ],
      "text/plain": [
       "     Name       Type  Price\n",
       "0  cherry      Fruit    100\n",
       "1   mango      Fruit    110\n",
       "2  potato  Vegetable     60\n",
       "3   onion  Vegetable     80"
      ]
     },
     "execution_count": 26,
     "metadata": {},
     "output_type": "execute_result"
    }
   ],
   "source": [
    "df1 = pd.DataFrame(\n",
    "            [['cherry', 'Fruit', 100],\n",
    "            ['mango', 'Fruit', 110],\n",
    "            ['potato', 'Vegetable', 60],\n",
    "            ['onion', 'Vegetable', 80]],\n",
    "            columns = [\"Name\", \"Type\", \"Price\"])\n",
    "df2 = pd.DataFrame(\n",
    "            [['pepper', 'Vgetable', 50],\n",
    "            ['carrot', 'Vegetable', 70],\n",
    "            ['banana', 'Fruit', 90],\n",
    "            ['kiwi', 'Fruit', 120]],\n",
    "            columns = [\"Name\", \"Type\", \"Price\"])\n",
    "\n",
    "df1"
   ]
  },
  {
   "cell_type": "code",
   "execution_count": 27,
   "id": "d041b8a6",
   "metadata": {
    "scrolled": false
   },
   "outputs": [
    {
     "data": {
      "text/html": [
       "<div>\n",
       "<style scoped>\n",
       "    .dataframe tbody tr th:only-of-type {\n",
       "        vertical-align: middle;\n",
       "    }\n",
       "\n",
       "    .dataframe tbody tr th {\n",
       "        vertical-align: top;\n",
       "    }\n",
       "\n",
       "    .dataframe thead th {\n",
       "        text-align: right;\n",
       "    }\n",
       "</style>\n",
       "<table border=\"1\" class=\"dataframe\">\n",
       "  <thead>\n",
       "    <tr style=\"text-align: right;\">\n",
       "      <th></th>\n",
       "      <th>Name</th>\n",
       "      <th>Type</th>\n",
       "      <th>Price</th>\n",
       "    </tr>\n",
       "  </thead>\n",
       "  <tbody>\n",
       "    <tr>\n",
       "      <th>0</th>\n",
       "      <td>cherry</td>\n",
       "      <td>Fruit</td>\n",
       "      <td>100</td>\n",
       "    </tr>\n",
       "    <tr>\n",
       "      <th>1</th>\n",
       "      <td>mango</td>\n",
       "      <td>Fruit</td>\n",
       "      <td>110</td>\n",
       "    </tr>\n",
       "    <tr>\n",
       "      <th>2</th>\n",
       "      <td>potato</td>\n",
       "      <td>Vegetable</td>\n",
       "      <td>60</td>\n",
       "    </tr>\n",
       "    <tr>\n",
       "      <th>3</th>\n",
       "      <td>onion</td>\n",
       "      <td>Vegetable</td>\n",
       "      <td>80</td>\n",
       "    </tr>\n",
       "    <tr>\n",
       "      <th>4</th>\n",
       "      <td>pepper</td>\n",
       "      <td>Vgetable</td>\n",
       "      <td>50</td>\n",
       "    </tr>\n",
       "    <tr>\n",
       "      <th>5</th>\n",
       "      <td>carrot</td>\n",
       "      <td>Vegetable</td>\n",
       "      <td>70</td>\n",
       "    </tr>\n",
       "    <tr>\n",
       "      <th>6</th>\n",
       "      <td>banana</td>\n",
       "      <td>Fruit</td>\n",
       "      <td>90</td>\n",
       "    </tr>\n",
       "    <tr>\n",
       "      <th>7</th>\n",
       "      <td>kiwi</td>\n",
       "      <td>Fruit</td>\n",
       "      <td>120</td>\n",
       "    </tr>\n",
       "  </tbody>\n",
       "</table>\n",
       "</div>"
      ],
      "text/plain": [
       "     Name       Type  Price\n",
       "0  cherry      Fruit    100\n",
       "1   mango      Fruit    110\n",
       "2  potato  Vegetable     60\n",
       "3   onion  Vegetable     80\n",
       "4  pepper   Vgetable     50\n",
       "5  carrot  Vegetable     70\n",
       "6  banana      Fruit     90\n",
       "7    kiwi      Fruit    120"
      ]
     },
     "execution_count": 27,
     "metadata": {},
     "output_type": "execute_result"
    }
   ],
   "source": [
    "df3 = pd.concat([df1, df2], ignore_index = True) #두 dataframe을 합칠 때 index 번호는 신경쓰지 않기\n",
    "\n",
    "# 다른 방법\n",
    "# df3 = df1.append(df2)\n",
    "\n",
    "df3"
   ]
  },
  {
   "cell_type": "code",
   "execution_count": 28,
   "id": "fd2d4ef8",
   "metadata": {
    "scrolled": true
   },
   "outputs": [
    {
     "name": "stdout",
     "output_type": "stream",
     "text": [
      "     Name   Type  Price\n",
      "7    kiwi  Fruit    120\n",
      "1   mango  Fruit    110\n",
      "0  cherry  Fruit    100\n",
      "6  banana  Fruit     90\n",
      "     Name       Type  Price\n",
      "3   onion  Vegetable     80\n",
      "5  carrot  Vegetable     70\n",
      "2  potato  Vegetable     60\n"
     ]
    }
   ],
   "source": [
    "#fruit와 vegetable의 type에 따라 정렬하고, 가격을 내림차순으로 정리\n",
    "\n",
    "df_fruit = df3.loc[df3[\"Type\"] == \"Fruit\"]\n",
    "df_fruit_sorted = df_fruit.sort_values(by=\"Price\", ascending=False)\n",
    "\n",
    "df_veg = df3.loc[df3[\"Type\"] == \"Vegetable\"]\n",
    "df_veg_sorted = df_veg.sort_values(by=\"Price\", ascending=False)\n",
    "\n",
    "print(df_fruit_sorted)\n",
    "print(df_veg_sorted)"
   ]
  },
  {
   "cell_type": "code",
   "execution_count": 29,
   "id": "8b588307",
   "metadata": {
    "scrolled": false
   },
   "outputs": [
    {
     "name": "stdout",
     "output_type": "stream",
     "text": [
      "Sum of Top 2 Fruit Price :  230\n",
      "Sum of Top 2 Vegetable Price :  150\n"
     ]
    }
   ],
   "source": [
    "#Fruit와 Vegetable 상위 2개의 가격의 합을 출력\n",
    "\n",
    "print(\"Sum of Top 2 Fruit Price : \", sum(df_fruit_sorted[\"Price\"].iloc[:2]))\n",
    "print(\"Sum of Top 2 Vegetable Price : \", sum(df_veg_sorted[\"Price\"].iloc[:2]))"
   ]
  },
  {
   "cell_type": "markdown",
   "id": "d9160067",
   "metadata": {},
   "source": [
    "## Q3"
   ]
  },
  {
   "cell_type": "markdown",
   "id": "f99f15dc",
   "metadata": {},
   "source": [
    "총 5명에서 게임을 진행했습니다. 총 5개 라운드를 진행했고, 각각 참여자당 5개의 점수를 받았습니다. 주어진 데이터를 dataframe의 형태로 만든 후 각 세부 구현을 진행해보세요.\n",
    "\n",
    "참여자의 이름을 index로 해서 각 라운드의 columns를 추가해 데이터를 정리해보세요.\n",
    "6번째 라운드의 점수가 아래와 같을 때, 이를 추가해보세요.\n",
    "각 데이터의 mean, max, min 값을 출력해보세요."
   ]
  },
  {
   "cell_type": "code",
   "execution_count": 30,
   "id": "91f83ebd",
   "metadata": {},
   "outputs": [],
   "source": [
    "idx = [\"Sue\", \"Ryan\", \"Jay\", \"Jane\", \"Anna\"]\n",
    "col = [\"round_1\", \"round_2\", \"round_3\", \"round_4\", \"round_5\"]\n",
    "data = [[55, 65, 60, 66, 57],\n",
    "        [64, 77, 71, 79, 67],\n",
    "        [88, 81, 79, 89, 77],\n",
    "        [45, 35, 30, 46, 47],\n",
    "        [91, 96, 90, 97, 99]]"
   ]
  },
  {
   "cell_type": "code",
   "execution_count": 31,
   "id": "1cb78403",
   "metadata": {
    "scrolled": true
   },
   "outputs": [
    {
     "data": {
      "text/html": [
       "<div>\n",
       "<style scoped>\n",
       "    .dataframe tbody tr th:only-of-type {\n",
       "        vertical-align: middle;\n",
       "    }\n",
       "\n",
       "    .dataframe tbody tr th {\n",
       "        vertical-align: top;\n",
       "    }\n",
       "\n",
       "    .dataframe thead th {\n",
       "        text-align: right;\n",
       "    }\n",
       "</style>\n",
       "<table border=\"1\" class=\"dataframe\">\n",
       "  <thead>\n",
       "    <tr style=\"text-align: right;\">\n",
       "      <th></th>\n",
       "      <th>round_1</th>\n",
       "      <th>round_2</th>\n",
       "      <th>round_3</th>\n",
       "      <th>round_4</th>\n",
       "      <th>round_5</th>\n",
       "    </tr>\n",
       "  </thead>\n",
       "  <tbody>\n",
       "    <tr>\n",
       "      <th>Sue</th>\n",
       "      <td>55</td>\n",
       "      <td>65</td>\n",
       "      <td>60</td>\n",
       "      <td>66</td>\n",
       "      <td>57</td>\n",
       "    </tr>\n",
       "    <tr>\n",
       "      <th>Ryan</th>\n",
       "      <td>64</td>\n",
       "      <td>77</td>\n",
       "      <td>71</td>\n",
       "      <td>79</td>\n",
       "      <td>67</td>\n",
       "    </tr>\n",
       "    <tr>\n",
       "      <th>Jay</th>\n",
       "      <td>88</td>\n",
       "      <td>81</td>\n",
       "      <td>79</td>\n",
       "      <td>89</td>\n",
       "      <td>77</td>\n",
       "    </tr>\n",
       "    <tr>\n",
       "      <th>Jane</th>\n",
       "      <td>45</td>\n",
       "      <td>35</td>\n",
       "      <td>30</td>\n",
       "      <td>46</td>\n",
       "      <td>47</td>\n",
       "    </tr>\n",
       "    <tr>\n",
       "      <th>Anna</th>\n",
       "      <td>91</td>\n",
       "      <td>96</td>\n",
       "      <td>90</td>\n",
       "      <td>97</td>\n",
       "      <td>99</td>\n",
       "    </tr>\n",
       "  </tbody>\n",
       "</table>\n",
       "</div>"
      ],
      "text/plain": [
       "      round_1  round_2  round_3  round_4  round_5\n",
       "Sue        55       65       60       66       57\n",
       "Ryan       64       77       71       79       67\n",
       "Jay        88       81       79       89       77\n",
       "Jane       45       35       30       46       47\n",
       "Anna       91       96       90       97       99"
      ]
     },
     "execution_count": 31,
     "metadata": {},
     "output_type": "execute_result"
    }
   ],
   "source": [
    "#위 데이터를 이용해 dataframe을 구성해보세요.\n",
    "\n",
    "df = pd.DataFrame(data, idx, col)\n",
    "df"
   ]
  },
  {
   "cell_type": "code",
   "execution_count": 32,
   "id": "46b11d60",
   "metadata": {
    "scrolled": true
   },
   "outputs": [],
   "source": [
    "#df에 새로운 column인 round_6의 데이터 [11, 15, 13, 17, 19] 추가\n",
    "\n",
    "col_round_6 = [11, 15, 13, 17, 19]\n",
    "df[\"round_6\"] = col_round_6\n",
    "\n",
    "# 다른 방법들\n",
    "# df.loc[:, \"round_6\"] = col_round_6\n",
    "# df = df.assign(round_6 = col_round_6)"
   ]
  },
  {
   "cell_type": "code",
   "execution_count": 33,
   "id": "d349316a",
   "metadata": {},
   "outputs": [
    {
     "name": "stdout",
     "output_type": "stream",
     "text": [
      "      round_1  round_2  round_3  round_4  round_5  round_6\n",
      "Sue        55       65       60       66       57       11\n",
      "Ryan       64       77       71       79       67       15\n",
      "Jay        88       81       79       89       77       13\n",
      "Jane       45       35       30       46       47       17\n",
      "Anna       91       96       90       97       99       19\n"
     ]
    }
   ],
   "source": [
    "print(df)"
   ]
  },
  {
   "cell_type": "code",
   "execution_count": 34,
   "id": "2e39a106",
   "metadata": {
    "scrolled": false
   },
   "outputs": [
    {
     "name": "stdout",
     "output_type": "stream",
     "text": [
      "      round_1  round_2  round_3  round_4  round_5  round_6\n",
      "mean     68.6     70.8     66.0     75.4     69.4     15.0\n",
      "max      91.0     96.0     90.0     97.0     99.0     19.0\n",
      "min      45.0     35.0     30.0     46.0     47.0     11.0\n"
     ]
    }
   ],
   "source": [
    "#각 데이터의 mean, max, min 값 구해 출력\n",
    "\n",
    "print(df.describe().loc[[\"mean\", \"max\", \"min\"]])"
   ]
  },
  {
   "cell_type": "markdown",
   "id": "d6dd1a30",
   "metadata": {},
   "source": [
    "## Q4"
   ]
  },
  {
   "cell_type": "markdown",
   "id": "96c820c0",
   "metadata": {},
   "source": [
    "다음과 같은 데이터 t가 주어져있을때, 출력 예시로 제안된 그래프를 출력해보세요.\n",
    "\n",
    "Plot 함수 내 각 마커의 색상과 모양을 표현하는 방법을 확인해보세요."
   ]
  },
  {
   "cell_type": "code",
   "execution_count": 35,
   "id": "0d9173e3",
   "metadata": {},
   "outputs": [],
   "source": [
    "t = np.arange(0., 5., 0.2)"
   ]
  },
  {
   "cell_type": "code",
   "execution_count": 36,
   "id": "3deb9119",
   "metadata": {},
   "outputs": [],
   "source": [
    "#사용 마커: red dashes, blue squares, green triangles"
   ]
  },
  {
   "cell_type": "code",
   "execution_count": 37,
   "id": "2f231d80",
   "metadata": {},
   "outputs": [
    {
     "data": {
      "image/png": "[encoded data removed]",
      "text/plain": [
       "<Figure size 432x288 with 1 Axes>"
      ]
     },
     "metadata": {
      "needs_background": "light"
     },
     "output_type": "display_data"
    }
   ],
   "source": [
    "plt.plot(t, t, c=\"r\", ls=\"dashed\")\n",
    "plt.plot(t, t**2, c=\"g\", ls= \"none\", marker=\"s\")\n",
    "plt.plot(t, t**3, c=\"b\", ls= \"none\", marker=\"^\")\n",
    "\n",
    "plt.show()"
   ]
  },
  {
   "cell_type": "markdown",
   "id": "3accdeea",
   "metadata": {},
   "source": [
    "## Q5"
   ]
  },
  {
   "cell_type": "markdown",
   "id": "94c73faa",
   "metadata": {},
   "source": [
    "Matplotlib을 이용해서 아래와 같은 데이터가 주어졌을때, 출력 예시와 같은 형태로 그래프를 출력해보세요.\n",
    "\n",
    "각 그룹별 데이터를 다른 형식의 그래프로 생성해보세요. 각각 막대, 점, 선 그래프입니다."
   ]
  },
  {
   "cell_type": "code",
   "execution_count": 38,
   "id": "b23d456f",
   "metadata": {},
   "outputs": [],
   "source": [
    "names = ['group_a', 'group_b', 'group_c']\n",
    "values = [1, 10, 100]"
   ]
  },
  {
   "cell_type": "code",
   "execution_count": 39,
   "id": "7e0271f6",
   "metadata": {
    "scrolled": true
   },
   "outputs": [
    {
     "data": {
      "text/plain": [
       "<Figure size 648x216 with 0 Axes>"
      ]
     },
     "execution_count": 39,
     "metadata": {},
     "output_type": "execute_result"
    },
    {
     "data": {
      "text/plain": [
       "<Figure size 648x216 with 0 Axes>"
      ]
     },
     "metadata": {},
     "output_type": "display_data"
    }
   ],
   "source": [
    "plt.figure(figsize=(9, 3))"
   ]
  },
  {
   "cell_type": "code",
   "execution_count": 40,
   "id": "4839138e",
   "metadata": {
    "scrolled": false
   },
   "outputs": [
    {
     "data": {
      "image/png": "[encoded data removed]",
      "text/plain": [
       "<Figure size 432x288 with 3 Axes>"
      ]
     },
     "metadata": {
      "needs_background": "light"
     },
     "output_type": "display_data"
    }
   ],
   "source": [
    "#3개의 plot 그리기\n",
    "\n",
    "plt.subplot(1, 3, 1) #그림은 1개의 행, 3개의 열로 되어 있으며 이것은 첫 번째 plot이다\n",
    "plt.bar(names, values)\n",
    "\n",
    "plt.subplot(1, 3, 2) #그림은 1개의 행, 3개의 열로 되어 있으며 이것은 두 번째 plot이다\n",
    "plt.scatter(names, values)\n",
    "\n",
    "plt.subplot(1, 3, 3) #그림은 1개의 행, 3개의 열로 되어 있으며 이것은 세 번째 plot이다\n",
    "plt.plot(names, values)\n",
    "\n",
    "plt.show() #완성된 그래프 flush"
   ]
  },
  {
   "cell_type": "code",
   "execution_count": 41,
   "id": "850472a3",
   "metadata": {},
   "outputs": [
    {
     "data": {
      "image/png": "[encoded data removed]",
      "text/plain": [
       "<Figure size 648x216 with 3 Axes>"
      ]
     },
     "metadata": {
      "needs_background": "light"
     },
     "output_type": "display_data"
    }
   ],
   "source": [
    "fig = plt.figure(figsize=(9, 3))\n",
    "\n",
    "ax_1 = fig.add_subplot(1, 3, 1)\n",
    "ax_2 = fig.add_subplot(1, 3, 2)\n",
    "ax_3 = fig.add_subplot(1, 3, 3)\n",
    "\n",
    "ax_1.bar(names, values)\n",
    "ax_2.scatter(names, values)\n",
    "ax_3.plot(names, values)\n",
    "\n",
    "plt.show() #완성된 그래프 flush"
   ]
  },
  {
   "cell_type": "code",
   "execution_count": null,
   "id": "f66f7ad0",
   "metadata": {},
   "outputs": [],
   "source": []
  }
 ],
 "metadata": {
  "kernelspec": {
   "display_name": "Python 3 (ipykernel)",
   "language": "python",
   "name": "python3"
  },
  "language_info": {
   "codemirror_mode": {
    "name": "ipython",
    "version": 3
   },
   "file_extension": ".py",
   "mimetype": "text/x-python",
   "name": "python",
   "nbconvert_exporter": "python",
   "pygments_lexer": "ipython3",
   "version": "3.8.10"
  }
 },
 "nbformat": 4,
 "nbformat_minor": 5
}
